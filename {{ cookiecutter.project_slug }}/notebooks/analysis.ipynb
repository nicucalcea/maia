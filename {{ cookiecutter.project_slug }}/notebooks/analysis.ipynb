{
  "cells": [
    {
      "cell_type": "raw",
      "id": "c250529d-3381-4cf1-b9e1-da590fa12691",
      "metadata": {},
      "source": [
        "---\n",
        "title: Analysis: {{ cookiecutter.project_name }}\n",
        "author: {{ cookiecutter.full_name }} ({{ cookiecutter.email }})\n",
        "abstract: {{ cookiecutter.project_short_description }}\n",
        "---"
      ]
    },
    {
      "cell_type": "code",
      "execution_count": 1,
      "id": "5a5a737a-2729-4624-8df3-c3d01c60e0ab",
      "metadata": {
        "vscode": {
          "languageId": "python"
        }
      },
      "outputs": [],
      "source": [
        "!{% if cookiecutter.virtual_env == 'uv' %}uv {% endif %}pip install pandas"
      ]
    },
    {
      "cell_type": "code",
      "execution_count": null,
      "id": "55cad059",
      "metadata": {
        "vscode": {
          "languageId": "python"
        }
      },
      "outputs": [],
      "source": [
        "import pandas as pd"
      ]
    }
  ],
  "metadata": {
    "jupytext": {
      "formats": "ipynb,Rmd"
    },
    "kernelspec": {
      "display_name": "",
      "name": ""
    },
    "language_info": {
      "name": ""
    }
  },
  "nbformat": 4,
  "nbformat_minor": 5
}